{
 "cells": [
  {
   "cell_type": "code",
   "execution_count": 1,
   "metadata": {
    "collapsed": true
   },
   "outputs": [],
   "source": [
    "import numpy as np\n",
    "import matplotlib\n",
    "import matplotlib.pyplot as plt\n",
    "import cPickle as pickle"
   ]
  },
  {
   "cell_type": "code",
   "execution_count": 2,
   "metadata": {},
   "outputs": [
    {
     "ename": "IOError",
     "evalue": "[Errno 2] No such file or directory: 'modelA_labels.p'",
     "output_type": "error",
     "traceback": [
      "\u001b[0;31m---------------------------------------------------------------------------\u001b[0m",
      "\u001b[0;31mIOError\u001b[0m                                   Traceback (most recent call last)",
      "\u001b[0;32m<ipython-input-2-090a5116cde1>\u001b[0m in \u001b[0;36m<module>\u001b[0;34m()\u001b[0m\n\u001b[1;32m     12\u001b[0m \u001b[0mr_count\u001b[0m\u001b[0;34m=\u001b[0m\u001b[0;36m0\u001b[0m\u001b[0;34m\u001b[0m\u001b[0m\n\u001b[1;32m     13\u001b[0m \u001b[0;32mfor\u001b[0m \u001b[0mm\u001b[0m \u001b[0;32min\u001b[0m \u001b[0mmodels\u001b[0m\u001b[0;34m:\u001b[0m\u001b[0;34m\u001b[0m\u001b[0m\n\u001b[0;32m---> 14\u001b[0;31m     \u001b[0mpreds_orig\u001b[0m \u001b[0;34m=\u001b[0m \u001b[0mnp\u001b[0m\u001b[0;34m.\u001b[0m\u001b[0mload\u001b[0m\u001b[0;34m(\u001b[0m\u001b[0;34m'%s_labels.p'\u001b[0m \u001b[0;34m%\u001b[0m \u001b[0mm\u001b[0m\u001b[0;34m)\u001b[0m\u001b[0;34m\u001b[0m\u001b[0m\n\u001b[0m\u001b[1;32m     15\u001b[0m     \u001b[0;32mfor\u001b[0m \u001b[0ma\u001b[0m \u001b[0;32min\u001b[0m \u001b[0mattacks\u001b[0m\u001b[0;34m:\u001b[0m\u001b[0;34m\u001b[0m\u001b[0m\n\u001b[1;32m     16\u001b[0m \u001b[0;31m#         print m, a\u001b[0m\u001b[0;34m\u001b[0m\u001b[0;34m\u001b[0m\u001b[0m\n",
      "\u001b[0;32m/home/arjun/venv/local/lib/python2.7/site-packages/numpy/lib/npyio.pyc\u001b[0m in \u001b[0;36mload\u001b[0;34m(file, mmap_mode, allow_pickle, fix_imports, encoding)\u001b[0m\n\u001b[1;32m    368\u001b[0m     \u001b[0mown_fid\u001b[0m \u001b[0;34m=\u001b[0m \u001b[0mFalse\u001b[0m\u001b[0;34m\u001b[0m\u001b[0m\n\u001b[1;32m    369\u001b[0m     \u001b[0;32mif\u001b[0m \u001b[0misinstance\u001b[0m\u001b[0;34m(\u001b[0m\u001b[0mfile\u001b[0m\u001b[0;34m,\u001b[0m \u001b[0mbasestring\u001b[0m\u001b[0;34m)\u001b[0m\u001b[0;34m:\u001b[0m\u001b[0;34m\u001b[0m\u001b[0m\n\u001b[0;32m--> 370\u001b[0;31m         \u001b[0mfid\u001b[0m \u001b[0;34m=\u001b[0m \u001b[0mopen\u001b[0m\u001b[0;34m(\u001b[0m\u001b[0mfile\u001b[0m\u001b[0;34m,\u001b[0m \u001b[0;34m\"rb\"\u001b[0m\u001b[0;34m)\u001b[0m\u001b[0;34m\u001b[0m\u001b[0m\n\u001b[0m\u001b[1;32m    371\u001b[0m         \u001b[0mown_fid\u001b[0m \u001b[0;34m=\u001b[0m \u001b[0mTrue\u001b[0m\u001b[0;34m\u001b[0m\u001b[0m\n\u001b[1;32m    372\u001b[0m     \u001b[0;32melif\u001b[0m \u001b[0mis_pathlib_path\u001b[0m\u001b[0;34m(\u001b[0m\u001b[0mfile\u001b[0m\u001b[0;34m)\u001b[0m\u001b[0;34m:\u001b[0m\u001b[0;34m\u001b[0m\u001b[0m\n",
      "\u001b[0;31mIOError\u001b[0m: [Errno 2] No such file or directory: 'modelA_labels.p'"
     ]
    }
   ],
   "source": [
    "attacks = ['fgs','CW']\n",
    "models = ['modelA','modelB', 'modelC', 'modelD']\n",
    "epsilons = ['0.2','0.3','0.4','0.5']\n",
    "opt_offset = 0\n",
    "gs = matplotlib.gridspec.GridSpec(len(models)*len(attacks), len(epsilons) + 1)\n",
    "\n",
    "orig_imgs = pickle.load(open('orig_images.p','rb'))\n",
    "gt = pickle.load(open('orig_labels.p','rb'))\n",
    "\n",
    "fig = plt.figure(figsize=(len(epsilons) + 1, len(models)*len(attacks)))\n",
    "\n",
    "r_count=0\n",
    "for m in models:\n",
    "    preds_orig = np.load('%s_labels.p' % m)\n",
    "    for a in attacks:\n",
    "#         print m, a\n",
    "        imgs = np.asarray([pickle.load(open('%s_adv_samples/%s_adv_%s.p' % (a, m, e),'rb')) for e in epsilons])\n",
    "        preds_adv = np.asarray([pickle.load(open('%s_adv_samples/%s_labels_%s.p' % (a, m, e),'rb')) for e in epsilons])\n",
    "        if a == 'CW':\n",
    "            batch = slice(opt_offset, opt_offset + imgs.shape[1])\n",
    "            orig_imgs_slice = orig_imgs[batch]\n",
    "            gt_slice = gt[batch]\n",
    "        else:\n",
    "            orig_imgs_slice = orig_imgs\n",
    "            gt_slice = gt\n",
    "        success = np.not_equal(preds_adv, gt_slice)\n",
    "        success_any = np.any(success, axis=0)\n",
    "        success_any_indices, = np.where(success_any)\n",
    "        index = np.random.choice(success_any_indices)\n",
    "#         index = success_any_indices[0]\n",
    "\n",
    "        print gt[index], '->', [pred for pred in preds_adv[:,index]]\n",
    "        a=fig.add_subplot(gs[r_count, 0])\n",
    "        if r_count == 0:\n",
    "            a.set_title('orig')\n",
    "        a.set_ylabel('model')\n",
    "        plt.imshow(orig_imgs_slice[index].reshape((28,28))*255, cmap='gray',vmin=0,vmax=255)\n",
    "        plt.axis('off')\n",
    "        for i, e in enumerate(imgs[:, index]):\n",
    "            a=fig.add_subplot(gs[r_count, i + 1])\n",
    "            if r_count == 0:\n",
    "                a.set_title(epsilons[i])\n",
    "            plt.imshow(imgs[i, index].reshape((28,28))*255, cmap='gray',vmin=0,vmax=255)\n",
    "            plt.axis('off')\n",
    "        r_count += 1\n",
    "plt.show()"
   ]
  },
  {
   "cell_type": "code",
   "execution_count": null,
   "metadata": {
    "collapsed": true
   },
   "outputs": [],
   "source": []
  }
 ],
 "metadata": {
  "kernelspec": {
   "display_name": "Python 2",
   "language": "python",
   "name": "python2"
  },
  "language_info": {
   "codemirror_mode": {
    "name": "ipython",
    "version": 2
   },
   "file_extension": ".py",
   "mimetype": "text/x-python",
   "name": "python",
   "nbconvert_exporter": "python",
   "pygments_lexer": "ipython2",
   "version": "2.7.12"
  }
 },
 "nbformat": 4,
 "nbformat_minor": 2
}
